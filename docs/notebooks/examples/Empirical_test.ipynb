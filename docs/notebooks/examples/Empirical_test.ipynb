{
 "cells": [
  {
   "cell_type": "markdown",
   "metadata": {},
   "source": [
    "# Empirical modelling of data\n",
    "\n"
   ]
  },
  {
   "cell_type": "markdown",
   "metadata": {},
   "source": [
    "Here I will test modelling the multiband data as part of an empirical prior model. To illustrate and validate this I will carry out the following steps:\n",
    "1. Model simulation distribution\n",
    "2. Model simulation distribution with cuts\n",
    "3. Model simulation distribution from map"
   ]
  },
  {
   "cell_type": "code",
   "execution_count": 7,
   "metadata": {
    "collapsed": false
   },
   "outputs": [],
   "source": [
    "import numpy as np\n",
    "import pylab as plt\n",
    "import seaborn as sns\n",
    "%matplotlib inline"
   ]
  },
  {
   "cell_type": "code",
   "execution_count": 8,
   "metadata": {
    "collapsed": false
   },
   "outputs": [],
   "source": [
    "from astropy.table import Table"
   ]
  },
  {
   "cell_type": "code",
   "execution_count": 9,
   "metadata": {
    "collapsed": false
   },
   "outputs": [],
   "source": [
    "mock=Table.read('../../../test_files/lacey_07012015_MillGas.ALLVOLS_cat_PSW_COSMOS_test.fits')"
   ]
  },
  {
   "cell_type": "code",
   "execution_count": 10,
   "metadata": {
    "collapsed": false
   },
   "outputs": [
    {
     "data": {
      "text/html": [
       "&lt;Table length=10&gt;\n",
       "<table id=\"table4621449592\" class=\"table-striped table-bordered table-condensed\">\n",
       "<thead><tr><th>DHALOID</th><th>GALAXYID</th><th>S100</th><th>S160</th><th>S250</th><th>S350</th><th>S500</th><th>APPUSO_TOT_EXT</th><th>APPGSO_TOT_EXT</th><th>APPRSO_TOT_EXT</th><th>APPISO_TOT_EXT</th><th>APPZSO_TOT_EXT</th><th>DEC</th><th>IS_CENTRAL</th><th>MHHALO</th><th>MSTARDOT</th><th>MSTARS_TOT</th><th>RA</th><th>Z_COS</th><th>Z_OBS</th></tr></thead>\n",
       "<thead><tr><th>str22</th><th>str22</th><th>float32</th><th>float32</th><th>float32</th><th>float32</th><th>float32</th><th>float32</th><th>float32</th><th>float32</th><th>float32</th><th>float32</th><th>float64</th><th>float32</th><th>float32</th><th>float32</th><th>float32</th><th>float64</th><th>float32</th><th>float32</th></tr></thead>\n",
       "<tr><td>7221000005</td><td>250660000005</td><td>0.184557</td><td>0.847295</td><td>1.00324</td><td>0.666443</td><td>0.30983</td><td>21.0851</td><td>19.9199</td><td>19.3745</td><td>19.1446</td><td>18.9669</td><td>2.52281435887</td><td>0.0</td><td>1.12367e+11</td><td>8.41508e+07</td><td>1.02091e+09</td><td>149.968831368</td><td>0.102633</td><td>0.100918</td></tr>\n",
       "<tr><td>7354000005</td><td>252230000005</td><td>0.879098</td><td>2.2013</td><td>1.80466</td><td>0.997061</td><td>0.40618</td><td>20.3638</td><td>19.3247</td><td>18.8853</td><td>18.698</td><td>18.5506</td><td>1.09296587368</td><td>0.0</td><td>1.81679e+11</td><td>1.88512e+08</td><td>1.15188e+09</td><td>149.996199092</td><td>0.092121</td><td>0.0912445</td></tr>\n",
       "<tr><td>4026000013</td><td>210160000013</td><td>0.0112136</td><td>0.0411177</td><td>0.0405248</td><td>0.0241011</td><td>0.0102681</td><td>25.039</td><td>23.1625</td><td>21.7082</td><td>21.1741</td><td>20.85</td><td>2.10696062174</td><td>0.0</td><td>2.84672e+11</td><td>2.00169e+06</td><td>6.09953e+09</td><td>149.137297107</td><td>0.376282</td><td>0.376532</td></tr>\n",
       "<tr><td>4726000013</td><td>219730000013</td><td>0.0652038</td><td>0.208996</td><td>0.191553</td><td>0.110243</td><td>0.0459506</td><td>23.3759</td><td>22.8123</td><td>21.79</td><td>21.5169</td><td>21.3217</td><td>2.56423522875</td><td>0.0</td><td>2.80937e+11</td><td>3.34448e+08</td><td>1.60865e+09</td><td>150.92582623</td><td>0.376829</td><td>0.377374</td></tr>\n",
       "<tr><td>5536000013</td><td>230270000013</td><td>0.103659</td><td>0.455567</td><td>0.496569</td><td>0.309403</td><td>0.13604</td><td>22.8201</td><td>22.3489</td><td>21.3669</td><td>21.1046</td><td>20.9246</td><td>2.16826441305</td><td>0.0</td><td>1.81664e+11</td><td>5.8204e+08</td><td>2.28481e+09</td><td>149.524681469</td><td>0.377186</td><td>0.377635</td></tr>\n",
       "<tr><td>5762000013</td><td>233190000013</td><td>0.136709</td><td>0.615261</td><td>0.677913</td><td>0.424214</td><td>0.187012</td><td>22.8012</td><td>22.2651</td><td>21.2245</td><td>20.9151</td><td>20.6908</td><td>1.88389672817</td><td>0.0</td><td>1.76046e+11</td><td>6.97228e+08</td><td>3.16073e+09</td><td>149.729887985</td><td>0.383715</td><td>0.3851</td></tr>\n",
       "<tr><td>9150000013</td><td>272530000013</td><td>0.0201797</td><td>0.105251</td><td>0.130986</td><td>0.0878964</td><td>0.0408579</td><td>23.9817</td><td>23.5002</td><td>22.5123</td><td>22.2561</td><td>22.0729</td><td>2.41002832928</td><td>0.0</td><td>8.80211e+10</td><td>1.92794e+08</td><td>7.69563e+08</td><td>149.891553543</td><td>0.381552</td><td>0.382695</td></tr>\n",
       "<tr><td>4424000012</td><td>215640000012</td><td>0.0270184</td><td>0.146568</td><td>0.192646</td><td>0.136105</td><td>0.0665875</td><td>23.3157</td><td>22.8147</td><td>22.039</td><td>21.8566</td><td>21.7233</td><td>1.40785718228</td><td>0.0</td><td>1.55454e+11</td><td>2.51134e+08</td><td>6.29514e+08</td><td>150.436258903</td><td>0.327132</td><td>0.325931</td></tr>\n",
       "<tr><td>24026571</td><td>1840000011</td><td>39.481</td><td>67.4472</td><td>45.2025</td><td>23.0549</td><td>8.96614</td><td>23.275</td><td>21.9669</td><td>20.7596</td><td>20.2263</td><td>19.9311</td><td>2.15883520338</td><td>0.0</td><td>2.30369e+11</td><td>5.59299e+09</td><td>2.42265e+10</td><td>149.563597856</td><td>0.292259</td><td>0.293412</td></tr>\n",
       "<tr><td>24026509</td><td>1850000011</td><td>0.4366</td><td>1.29728</td><td>1.12227</td><td>0.626028</td><td>0.255027</td><td>21.9426</td><td>21.1694</td><td>20.2875</td><td>19.9949</td><td>19.8004</td><td>2.02323895883</td><td>0.0</td><td>2.43463e+11</td><td>7.10691e+08</td><td>3.93756e+09</td><td>149.438586031</td><td>0.292881</td><td>0.292721</td></tr>\n",
       "</table>"
      ],
      "text/plain": [
       "<Table length=10>\n",
       "       DHALOID                GALAXYID           S100   ...  Z_COS     Z_OBS  \n",
       "        str22                  str22           float32  ... float32   float32 \n",
       "---------------------- ---------------------- --------- ... -------- ---------\n",
       "            7221000005           250660000005  0.184557 ... 0.102633  0.100918\n",
       "            7354000005           252230000005  0.879098 ... 0.092121 0.0912445\n",
       "            4026000013           210160000013 0.0112136 ... 0.376282  0.376532\n",
       "            4726000013           219730000013 0.0652038 ... 0.376829  0.377374\n",
       "            5536000013           230270000013  0.103659 ... 0.377186  0.377635\n",
       "            5762000013           233190000013  0.136709 ... 0.383715    0.3851\n",
       "            9150000013           272530000013 0.0201797 ... 0.381552  0.382695\n",
       "            4424000012           215640000012 0.0270184 ... 0.327132  0.325931\n",
       "              24026571             1840000011    39.481 ... 0.292259  0.293412\n",
       "              24026509             1850000011    0.4366 ... 0.292881  0.292721"
      ]
     },
     "execution_count": 10,
     "metadata": {},
     "output_type": "execute_result"
    }
   ],
   "source": [
    "mock[0:10]"
   ]
  },
  {
   "cell_type": "code",
   "execution_count": 11,
   "metadata": {
    "collapsed": false
   },
   "outputs": [
    {
     "name": "stderr",
     "output_type": "stream",
     "text": [
      "/Users/pdh21/anaconda3/envs/xidplus/lib/python3.6/site-packages/ipykernel/__main__.py:1: RuntimeWarning: divide by zero encountered in log10\n",
      "  if __name__ == '__main__':\n"
     ]
    },
    {
     "data": {
      "text/plain": [
       "<matplotlib.collections.PolyCollection at 0x10ef3a9e8>"
      ]
     },
     "execution_count": 11,
     "metadata": {},
     "output_type": "execute_result"
    },
    {
     "data": {
      "image/png": "[encoded data removed]",
      "text/plain": [
       "<matplotlib.figure.Figure at 0x1111d4710>"
      ]
     },
     "metadata": {},
     "output_type": "display_data"
    }
   ],
   "source": [
    "plt.hexbin(np.log10(mock['S500']),np.log10(mock['S350']))"
   ]
  },
  {
   "cell_type": "code",
   "execution_count": 12,
   "metadata": {
    "collapsed": false
   },
   "outputs": [
    {
     "name": "stderr",
     "output_type": "stream",
     "text": [
      "/Users/pdh21/anaconda3/envs/xidplus/lib/python3.6/site-packages/ipykernel/__main__.py:1: RuntimeWarning: divide by zero encountered in log10\n",
      "  if __name__ == '__main__':\n"
     ]
    },
    {
     "data": {
      "text/html": [
       "&lt;Column name=&apos;S250&apos; dtype=&apos;float32&apos; length=286870&gt;\n",
       "<table>\n",
       "<tr><td>0.0014038</td></tr>\n",
       "<tr><td>0.256394</td></tr>\n",
       "<tr><td>-1.39228</td></tr>\n",
       "<tr><td>-0.71771</td></tr>\n",
       "<tr><td>-0.30402</td></tr>\n",
       "<tr><td>-0.168826</td></tr>\n",
       "<tr><td>-0.882775</td></tr>\n",
       "<tr><td>-0.71524</td></tr>\n",
       "<tr><td>1.65516</td></tr>\n",
       "<tr><td>0.0500957</td></tr>\n",
       "<tr><td>-0.438123</td></tr>\n",
       "<tr><td>-0.453271</td></tr>\n",
       "<tr><td>...</td></tr>\n",
       "<tr><td>-1.26047</td></tr>\n",
       "<tr><td>-0.329759</td></tr>\n",
       "<tr><td>-0.502027</td></tr>\n",
       "<tr><td>-0.38082</td></tr>\n",
       "<tr><td>-0.46453</td></tr>\n",
       "<tr><td>-0.888317</td></tr>\n",
       "<tr><td>-0.638829</td></tr>\n",
       "<tr><td>-1.39235</td></tr>\n",
       "<tr><td>0.39879</td></tr>\n",
       "<tr><td>0.102463</td></tr>\n",
       "<tr><td>-0.411172</td></tr>\n",
       "<tr><td>-1.15262</td></tr>\n",
       "</table>"
      ],
      "text/plain": [
       "<Column name='S250' dtype='float32' length=286870>\n",
       "0.0014038\n",
       " 0.256394\n",
       " -1.39228\n",
       " -0.71771\n",
       " -0.30402\n",
       "-0.168826\n",
       "-0.882775\n",
       " -0.71524\n",
       "  1.65516\n",
       "0.0500957\n",
       "-0.438123\n",
       "-0.453271\n",
       "      ...\n",
       " -1.26047\n",
       "-0.329759\n",
       "-0.502027\n",
       " -0.38082\n",
       " -0.46453\n",
       "-0.888317\n",
       "-0.638829\n",
       " -1.39235\n",
       "  0.39879\n",
       " 0.102463\n",
       "-0.411172\n",
       " -1.15262"
      ]
     },
     "execution_count": 12,
     "metadata": {},
     "output_type": "execute_result"
    }
   ],
   "source": [
    "np.log10(mock['S250'])"
   ]
  },
  {
   "cell_type": "code",
   "execution_count": 13,
   "metadata": {
    "collapsed": true
   },
   "outputs": [],
   "source": [
    "model=\"\"\"\n",
    "data {\n",
    "  int N;\n",
    "  vector[N] y;\n",
    "  int n_groups;\n",
    "}\n",
    "parameters {\n",
    "  ordered[n_groups] mu;\n",
    "  vector<lower = 0>[n_groups] sigma;\n",
    "  simplex[n_groups] Theta;\n",
    "}\n",
    "model {\n",
    "  vector[n_groups] contributions;\n",
    "  // priors\n",
    "  mu ~ normal(0, 10);\n",
    "  sigma ~ cauchy(0, 2);\n",
    "  Theta ~ dirichlet(rep_vector(2.0, n_groups));\n",
    "  \n",
    "  \n",
    "  // likelihood\n",
    "  for(i in 1:N) {\n",
    "    for(k in 1:n_groups) {\n",
    "      contributions[k] = log(Theta[k]) + normal_lpdf(y[i] | mu[k], sigma[k]);\n",
    "    }\n",
    "    target += log_sum_exp(contributions);\n",
    "  }\n",
    "}\n",
    "\"\"\""
   ]
  },
  {
   "cell_type": "code",
   "execution_count": 14,
   "metadata": {
    "collapsed": true
   },
   "outputs": [],
   "source": [
    "import pystan"
   ]
  },
  {
   "cell_type": "code",
   "execution_count": 15,
   "metadata": {
    "collapsed": false
   },
   "outputs": [
    {
     "name": "stderr",
     "output_type": "stream",
     "text": [
      "INFO:pystan:COMPILING THE C++ CODE FOR MODEL anon_model_37bc72dc5f55ae5520f6a45833bba460 NOW.\n"
     ]
    }
   ],
   "source": [
    "sm = pystan.StanModel(model_code=model)"
   ]
  },
  {
   "cell_type": "code",
   "execution_count": 37,
   "metadata": {
    "collapsed": false
   },
   "outputs": [
    {
     "name": "stderr",
     "output_type": "stream",
     "text": [
      "/Users/pdh21/anaconda3/envs/xidplus/lib/python3.6/site-packages/ipykernel/__main__.py:1: RuntimeWarning: divide by zero encountered in log10\n",
      "  if __name__ == '__main__':\n",
      "/Users/pdh21/anaconda3/envs/xidplus/lib/python3.6/site-packages/ipykernel/__main__.py:2: RuntimeWarning: divide by zero encountered in log10\n",
      "  from ipykernel import kernelapp as app\n"
     ]
    }
   ],
   "source": [
    "data={'N':np.isfinite(np.log10(mock['S250'][0:400])).sum(),\n",
    "      'y':np.log10(mock['S250'])[0:400][np.isfinite(np.log10(mock['S250'][0:400]))],\n",
    "      'n_groups':1}"
   ]
  },
  {
   "cell_type": "code",
   "execution_count": 38,
   "metadata": {
    "collapsed": false
   },
   "outputs": [],
   "source": [
    "fit=sm.sampling(data=data, iter=4000)"
   ]
  },
  {
   "cell_type": "code",
   "execution_count": 39,
   "metadata": {
    "collapsed": false
   },
   "outputs": [
    {
     "data": {
      "text/plain": [
       "Inference for Stan model: anon_model_37bc72dc5f55ae5520f6a45833bba460.\n",
       "4 chains, each with iter=4000; warmup=2000; thin=1; \n",
       "post-warmup draws per chain=2000, total post-warmup draws=8000.\n",
       "\n",
       "           mean se_mean     sd   2.5%    25%    50%    75%  97.5%  n_eff   Rhat\n",
       "mu[0]     -1.22  7.9e-4   0.06  -1.34  -1.26  -1.22  -1.17   -1.1   5951    1.0\n",
       "sigma[0]   1.15  5.5e-4   0.04   1.07   1.12   1.15   1.18   1.24   6177    1.0\n",
       "Theta[0]    1.0     0.0    0.0    1.0    1.0    1.0    1.0    1.0   8000    nan\n",
       "lp__     -560.2    0.02   1.01 -562.9 -560.6 -559.9 -559.5 -559.2   3759    1.0\n",
       "\n",
       "Samples were drawn using NUTS at Wed Jul  5 15:47:19 2017.\n",
       "For each parameter, n_eff is a crude measure of effective sample size,\n",
       "and Rhat is the potential scale reduction factor on split chains (at \n",
       "convergence, Rhat=1)."
      ]
     },
     "execution_count": 39,
     "metadata": {},
     "output_type": "execute_result"
    }
   ],
   "source": [
    "fit"
   ]
  },
  {
   "cell_type": "code",
   "execution_count": 34,
   "metadata": {
    "collapsed": false
   },
   "outputs": [
    {
     "name": "stderr",
     "output_type": "stream",
     "text": [
      "/Users/pdh21/anaconda3/envs/xidplus/lib/python3.6/site-packages/ipykernel/__main__.py:1: RuntimeWarning: divide by zero encountered in log10\n",
      "  if __name__ == '__main__':\n"
     ]
    },
    {
     "data": {
      "image/png": "[encoded data removed]",
      "text/plain": [
       "<matplotlib.figure.Figure at 0x1137a9748>"
      ]
     },
     "metadata": {},
     "output_type": "display_data"
    }
   ],
   "source": [
    "plt.hist(np.log10(mock['S250'])[0:400][np.isfinite(np.log10(mock['S250'][0:400]))], bins=np.arange(-5,2,0.1));"
   ]
  },
  {
   "cell_type": "code",
   "execution_count": 100,
   "metadata": {
    "collapsed": true
   },
   "outputs": [],
   "source": [
    "model=\"\"\"\n",
    "data {\n",
    "  int N;\n",
    "  int D;\n",
    "  vector[D] y[N];\n",
    "  int n_groups;\n",
    "}\n",
    "parameters {\n",
    "  ordered[n_groups] mu_S250;\n",
    "  vector[D-1] mu_other[n_groups];\n",
    "  cholesky_factor_corr[D] L[n_groups];\n",
    "  simplex[n_groups] Theta;\n",
    "\n",
    "}\n",
    "transformed parameters {\n",
    "  vector[D] mu_all[n_groups];\n",
    "  for (n in 1:n_groups){\n",
    "  mu_all[n,1]=mu_S250[n];\n",
    "  mu_all[n,2]=mu_other[n,1];\n",
    "  }\n",
    "  \n",
    "\n",
    "  \n",
    "  \n",
    "\n",
    "\n",
    "}\n",
    "model {\n",
    "  vector[n_groups] contributions;\n",
    "  // priors\n",
    "  mu_S250~normal(0, 10);\n",
    "  for (i in 1:D-1){\n",
    "  mu_other[i] ~ normal(0, 10);\n",
    "  }\n",
    "  Theta ~ dirichlet(rep_vector(2.0, n_groups));\n",
    "  \n",
    "  \n",
    "  // likelihood\n",
    "  for(i in 1:N) {\n",
    "    for(k in 1:n_groups) {\n",
    "      contributions[k] = log(Theta[k]) + multi_normal_cholesky_lpdf(y[i] | mu_all[k], L[k]);\n",
    "    }\n",
    "    target += log_sum_exp(contributions);\n",
    "  }\n",
    "}\n",
    "\"\"\""
   ]
  },
  {
   "cell_type": "code",
   "execution_count": 101,
   "metadata": {
    "collapsed": false
   },
   "outputs": [
    {
     "name": "stderr",
     "output_type": "stream",
     "text": [
      "INFO:pystan:COMPILING THE C++ CODE FOR MODEL anon_model_9ef96a8f4f58d9fe4ab7a945bea0f749 NOW.\n"
     ]
    }
   ],
   "source": [
    "sm = pystan.StanModel(model_code=model)"
   ]
  },
  {
   "cell_type": "code",
   "execution_count": 102,
   "metadata": {
    "collapsed": false
   },
   "outputs": [
    {
     "name": "stderr",
     "output_type": "stream",
     "text": [
      "/Users/pdh21/anaconda3/envs/xidplus/lib/python3.6/site-packages/ipykernel/__main__.py:1: RuntimeWarning: divide by zero encountered in log10\n",
      "  if __name__ == '__main__':\n"
     ]
    }
   ],
   "source": [
    "ind=np.isfinite(np.log10(mock['S250'][0:400])) & np.isfinite(np.log10(mock['S350'][0:400]))"
   ]
  },
  {
   "cell_type": "code",
   "execution_count": 103,
   "metadata": {
    "collapsed": false
   },
   "outputs": [
    {
     "name": "stderr",
     "output_type": "stream",
     "text": [
      "/Users/pdh21/anaconda3/envs/xidplus/lib/python3.6/site-packages/ipykernel/__main__.py:1: RuntimeWarning: divide by zero encountered in log10\n",
      "  if __name__ == '__main__':\n"
     ]
    }
   ],
   "source": [
    "y=np.vstack((np.log10(mock['S250'][0:400])[ind],np.log10(mock['S350'][0:400])[ind]))"
   ]
  },
  {
   "cell_type": "code",
   "execution_count": 107,
   "metadata": {
    "collapsed": false
   },
   "outputs": [],
   "source": [
    "data={'N':ind.sum(),\n",
    "      'D':2,\n",
    "      'y':y.T,\n",
    "      'n_groups':2}"
   ]
  },
  {
   "cell_type": "code",
   "execution_count": 108,
   "metadata": {
    "collapsed": false
   },
   "outputs": [],
   "source": [
    "fit=sm.sampling(data=data, iter=2000)"
   ]
  },
  {
   "cell_type": "code",
   "execution_count": 109,
   "metadata": {
    "collapsed": false
   },
   "outputs": [
    {
     "data": {
      "text/plain": [
       "Inference for Stan model: anon_model_9ef96a8f4f58d9fe4ab7a945bea0f749.\n",
       "4 chains, each with iter=2000; warmup=1000; thin=1; \n",
       "post-warmup draws per chain=1000, total post-warmup draws=4000.\n",
       "\n",
       "                mean se_mean     sd   2.5%    25%    50%    75%  97.5%  n_eff   Rhat\n",
       "mu_S250[0]      -3.0    0.75   1.07  -4.16  -3.73  -3.47   -1.9  -1.15      2   4.13\n",
       "mu_S250[1]      1.03    2.89   5.01  -1.19  -1.11  -1.06  -0.94  17.41      3   1.51\n",
       "mu_other[0,0]  -2.98    0.67   0.95  -4.07  -3.64  -3.39   -2.0  -1.35      2   3.75\n",
       "mu_other[1,0]-2.5e12  3.2e12 4.6e12-1.3e13  -1.46  -1.32  -1.27  -1.19      2   3.41\n",
       "mu_other[0,1]  -0.01    0.16   10.1 -19.64  -6.86   0.02   6.82  19.36   4000    1.0\n",
       "mu_other[1,1]-1.1e11  1.1e11 5.3e11-1.6e12 -2.4e8 -2.5e7  2.7e6 9.2e11     22   1.16\n",
       "L[0,0,0]         1.0     0.0    0.0    1.0    1.0    1.0    1.0    1.0   4000    nan\n",
       "L[1,0,0]         1.0     0.0    0.0    1.0    1.0    1.0    1.0    1.0   4000    nan\n",
       "L[0,1,0]         1.0  8.7e-4 2.3e-3   0.99   0.99    1.0    1.0    1.0      7   1.16\n",
       "L[1,1,0]        0.75     0.3   0.52  -0.79   0.99    1.0    1.0    1.0      3   1.89\n",
       "L[0,0,1]         0.0     0.0    0.0    0.0    0.0    0.0    0.0    0.0   4000    nan\n",
       "L[1,0,1]         0.0     0.0    0.0    0.0    0.0    0.0    0.0    0.0   4000    nan\n",
       "L[0,1,1]        0.09  9.0e-3   0.02   0.06   0.08   0.09   0.11   0.13      6   1.22\n",
       "L[1,1,1]        0.27    0.23   0.32   0.08   0.09   0.09    0.1    1.0      2   3.04\n",
       "Theta[0]        0.29    0.29   0.41   0.04   0.05   0.06    0.6    1.0      2  34.82\n",
       "Theta[1]        0.71    0.29   0.41 1.7e-3    0.4   0.94   0.95   0.96      2  34.82\n",
       "mu_all[0,0]     -3.0    0.75   1.07  -4.16  -3.73  -3.47   -1.9  -1.15      2   4.13\n",
       "mu_all[1,0]     1.03    2.89   5.01  -1.19  -1.11  -1.06  -0.94  17.41      3   1.51\n",
       "mu_all[0,1]    -2.98    0.67   0.95  -4.07  -3.64  -3.39   -2.0  -1.35      2   3.75\n",
       "mu_all[1,1]  -2.5e12  3.2e12 4.6e12-1.3e13  -1.46  -1.32  -1.27  -1.19      2   3.41\n",
       "lp__          -252.6    19.9  28.14 -304.0 -274.9 -237.0 -235.2 -233.5      2  14.11\n",
       "\n",
       "Samples were drawn using NUTS at Wed Jul  5 17:12:35 2017.\n",
       "For each parameter, n_eff is a crude measure of effective sample size,\n",
       "and Rhat is the potential scale reduction factor on split chains (at \n",
       "convergence, Rhat=1)."
      ]
     },
     "execution_count": 109,
     "metadata": {},
     "output_type": "execute_result"
    }
   ],
   "source": [
    "fit"
   ]
  },
  {
   "cell_type": "code",
   "execution_count": null,
   "metadata": {
    "collapsed": true
   },
   "outputs": [],
   "source": []
  }
 ],
 "metadata": {
  "anaconda-cloud": {},
  "kernelspec": {
   "display_name": "Python [conda env:xidplus]",
   "language": "python",
   "name": "conda-env-xidplus-py"
  },
  "language_info": {
   "codemirror_mode": {
    "name": "ipython",
    "version": 3
   },
   "file_extension": ".py",
   "mimetype": "text/x-python",
   "name": "python",
   "nbconvert_exporter": "python",
   "pygments_lexer": "ipython3",
   "version": "3.6.1"
  }
 },
 "nbformat": 4,
 "nbformat_minor": 1
}
